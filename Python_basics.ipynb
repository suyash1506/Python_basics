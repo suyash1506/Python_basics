{
  "nbformat": 4,
  "nbformat_minor": 0,
  "metadata": {
    "colab": {
      "provenance": []
    },
    "kernelspec": {
      "name": "python3",
      "display_name": "Python 3"
    },
    "language_info": {
      "name": "python"
    }
  },
  "cells": [
    {
      "cell_type": "markdown",
      "source": [
        "# 1. What is Python and why it is popular ?\n",
        "\n",
        "- Python is a high-level, interpreted programming language known for its simplicity and readability. It is popular because of itssimple syntax, extensive libraries, and a large, supportive community.\n",
        "\n",
        "# 2. What is an interpreter in Python ?\n",
        "\n",
        "- An interpreter is a program that executes Python code line by line, translating it into machine code at runtime.\n",
        "\n",
        "# 3. What are pre-defined keywords in Python ?\n",
        "\n",
        "- Predefined keywords are reserved words in Python that have special meanings, such as if, else, for, while, def, import, etc.\n",
        "\n",
        "# 4. Can keywords be used as variable names ?\n",
        "\n",
        "- No, Python keywords cannot be used as variable names because they are reserved for specific functionalities.\n",
        "\n",
        "# 5. What is mutability in Python ?\n",
        "\n",
        "- Mutability refers to whether an object’s value can be changed after creation.\n",
        ". Mutable objects Can be modified such as: list, dict, set.\n",
        ". Immutable objects: Cannot be modified such as int, float, str, tuple.\n",
        "\n",
        "# 6. Why are lists mutable, but tuples are immutable?\n",
        "\n",
        "- Lists allow modifications like adding, removing, and changing elements, while tuples are immutable to ensure data consistency and protect against unintentional changes.\n",
        "\n",
        "# 7. What is the difference between “==” and “is” operators in Python ?\n",
        "\n",
        "- == checks for value equality (whether two variables hold the same data).\n",
        "- is checks for identity equality (whether two variables refer to the same memory location).\n",
        "eg :-\n",
        "a = [10, 20, 30]\n",
        "b = [10, 20, 30]\n",
        "print(a ==b) # True (values are same )\n",
        "print (a is b ) # False (different memory location)\n",
        "\n",
        "# 8. What are logical operators in Python ?\n",
        "\n",
        "- Logical operators are used to combine multiple conditions:\n",
        "and → Returns True if both conditions are true\n",
        "or → Returns True if at least one condition is true\n",
        "not → Reverses the boolean value\n",
        "\n",
        "# 9. What is type casting in Python ?\n",
        "\n",
        "- Type casting is converting one data type into another.\n",
        "\n",
        "eg :\n",
        "a = \"1\"\n",
        "y = int(a) # converts string into integer\n",
        "print(y) # output: 1\n",
        "\n",
        "# 10. What is the difference between implicit and explicit type casting ?\n",
        "\n",
        "- Implicit casting: Python automatically converts a type (e.g., int to float).\n",
        "- Explicit casting: The user manually converts the type using functions like int(), float(), str(), etc.\n",
        "\n",
        "# 11. What is the purpose of conditional statements in Python ?\n",
        "\n",
        "- Conditional statements allow decision-making in programs.\n",
        "eg :\n",
        "age = 18\n",
        "if age >= 18:\n",
        "    print(\"you can vote\")\n",
        "else:\n",
        "    print(\"you cannot vote\")\n",
        "\n",
        "# 12. How does the elif statement work ?\n",
        "\n",
        "- The elif statement allows checking multiple conditions in an if-elif-else chain.\n",
        "eg;\n",
        "num = 0\n",
        "if num > 0:\n",
        "    print(\"Positive\")\n",
        "elif num < 0:\n",
        "    print(\"Negative\")\n",
        "else:\n",
        "    print(\"Zero\")\n",
        "\n",
        "# 13. What is the difference between for and while loops ?\n",
        "\n",
        "- for loop: Used when the number of iterations is known.\n",
        "- while loop: Used when the number of iterations is unknown and depends on a condition.\n",
        "eg ;\n",
        "# for loop\n",
        "for i in range(5):\n",
        "    print(i)\n",
        "\n",
        "# while loop\n",
        "x = 0\n",
        "while x < 5:\n",
        "    print(x)\n",
        "    x += 1\n",
        "\n",
        "# 14. Describe a scenario where a while loop is more suitable than a for loop.\n",
        "\n",
        "- A while loop is better when the loop should run until a condition is met rather than a fixed number of times.\n",
        "\n",
        "Eg: Taking user input until a valid number is entered.\n",
        "\n",
        "num = -1\n",
        "while num < 0:\n",
        "    num = int(input(\"Enter a positive number: \"))\n",
        "print(\"You entered:\", num)\n",
        "\n",
        "\n"
      ],
      "metadata": {
        "id": "bt-dqxufjWia"
      }
    },
    {
      "cell_type": "markdown",
      "source": [
        "\n",
        "\n",
        "\n",
        "PRACTICAL QUESTIONS\n",
        "\n"
      ],
      "metadata": {
        "id": "JIxHUQD8jQcE"
      }
    },
    {
      "cell_type": "markdown",
      "source": [
        "# 1. Write a Python program to print \"Hello, World!"
      ],
      "metadata": {
        "id": "syoOjdBRyCVF"
      }
    },
    {
      "cell_type": "code",
      "source": [
        "print(\"Hello, World!\")"
      ],
      "metadata": {
        "colab": {
          "base_uri": "https://localhost:8080/"
        },
        "id": "mMfbmBncyIla",
        "outputId": "382ae459-3f33-4cfd-90f3-d28baa0eda11"
      },
      "execution_count": 3,
      "outputs": [
        {
          "output_type": "stream",
          "name": "stdout",
          "text": [
            "Hello, World!\n"
          ]
        }
      ]
    },
    {
      "cell_type": "code",
      "source": [],
      "metadata": {
        "id": "c5oj7l0-yGZe"
      },
      "execution_count": null,
      "outputs": []
    },
    {
      "cell_type": "markdown",
      "source": [
        "# 2. Write a Python program that displays your name and age."
      ],
      "metadata": {
        "id": "iiYPvAkUyTSV"
      }
    },
    {
      "cell_type": "code",
      "source": [
        "name = \"Suyash Anand\"\n",
        "age = 29\n",
        "print(\"Name:\", name)\n",
        "print(\"Age:\", age)"
      ],
      "metadata": {
        "colab": {
          "base_uri": "https://localhost:8080/"
        },
        "id": "JGHJbBssyZ6J",
        "outputId": "43a2f149-ca33-481a-c6fa-0a340c219f94"
      },
      "execution_count": 4,
      "outputs": [
        {
          "output_type": "stream",
          "name": "stdout",
          "text": [
            "Name: Suyash Anand\n",
            "Age: 29\n"
          ]
        }
      ]
    },
    {
      "cell_type": "markdown",
      "source": [
        "# 3. Write code to print all the pre-defined keywords in Python using the keyword library."
      ],
      "metadata": {
        "id": "Zp7YKk30yuR0"
      }
    },
    {
      "cell_type": "code",
      "source": [
        "import keyword\n",
        "print(keyword.kwlist)"
      ],
      "metadata": {
        "colab": {
          "base_uri": "https://localhost:8080/"
        },
        "id": "v0pcyH17ysjU",
        "outputId": "da4436bb-874d-461a-b41f-5c46a55dde60"
      },
      "execution_count": 5,
      "outputs": [
        {
          "output_type": "stream",
          "name": "stdout",
          "text": [
            "['False', 'None', 'True', 'and', 'as', 'assert', 'async', 'await', 'break', 'class', 'continue', 'def', 'del', 'elif', 'else', 'except', 'finally', 'for', 'from', 'global', 'if', 'import', 'in', 'is', 'lambda', 'nonlocal', 'not', 'or', 'pass', 'raise', 'return', 'try', 'while', 'with', 'yield']\n"
          ]
        }
      ]
    },
    {
      "cell_type": "code",
      "source": [],
      "metadata": {
        "id": "v9Zi2E3Gy9sL"
      },
      "execution_count": null,
      "outputs": []
    },
    {
      "cell_type": "markdown",
      "source": [
        "# 4. Write a program that checks if a given word is a Python keyword."
      ],
      "metadata": {
        "id": "qsr-1J8xzBsn"
      }
    },
    {
      "cell_type": "code",
      "source": [
        "import keyword\n",
        "\n",
        "word = input(\"Enter a word: \")\n",
        "\n",
        "if keyword.iskeyword(word):\n",
        "    print(f\"'{word}' is a Python keyword.\")\n",
        "else:\n",
        "    print(f\"'{word}' is not a Python keyword.\")"
      ],
      "metadata": {
        "colab": {
          "base_uri": "https://localhost:8080/"
        },
        "id": "8HHpD98vzQRK",
        "outputId": "5e8d305e-4579-42e0-db6b-f3c79acda9b5"
      },
      "execution_count": 6,
      "outputs": [
        {
          "output_type": "stream",
          "name": "stdout",
          "text": [
            "Enter a word: and\n",
            "'and' is a Python keyword.\n"
          ]
        }
      ]
    },
    {
      "cell_type": "code",
      "source": [],
      "metadata": {
        "id": "Dp0uRpLM0D6X"
      },
      "execution_count": null,
      "outputs": []
    },
    {
      "cell_type": "markdown",
      "source": [
        "# 5. Create a list and tuple in Python, and demonstrate how attempting to change an element works differently for each."
      ],
      "metadata": {
        "id": "l4lTS9540GDv"
      }
    },
    {
      "cell_type": "code",
      "source": [
        "# Creating a list (mutable)\n",
        "my_list = [1, 2, 3, 4, 5]\n",
        "print(\"Original List:\", my_list)\n",
        "\n",
        "# Modifying an element in the list\n",
        "my_list[2] = 99  # Changing the third element\n",
        "print(\"Modified List:\", my_list)\n",
        "\n",
        "# Creating a tuple (immutable)\n",
        "my_tuple = (1, 2, 3, 4, 5)\n",
        "print(\"\\nOriginal Tuple:\", my_tuple)\n",
        "\n",
        "# Attempting to modify an element in the tuple\n",
        "try:\n",
        "    my_tuple[2] = 99  # This will raise a TypeError\n",
        "except TypeError as e:\n",
        "    print(\"Error:\", e)"
      ],
      "metadata": {
        "colab": {
          "base_uri": "https://localhost:8080/"
        },
        "id": "f_lWSC3E0DVt",
        "outputId": "a75a3285-2d50-4dde-d4ee-15b05e26353d"
      },
      "execution_count": 7,
      "outputs": [
        {
          "output_type": "stream",
          "name": "stdout",
          "text": [
            "Original List: [1, 2, 3, 4, 5]\n",
            "Modified List: [1, 2, 99, 4, 5]\n",
            "\n",
            "Original Tuple: (1, 2, 3, 4, 5)\n",
            "Error: 'tuple' object does not support item assignment\n"
          ]
        }
      ]
    },
    {
      "cell_type": "code",
      "source": [],
      "metadata": {
        "id": "I9xV1rl303jG"
      },
      "execution_count": null,
      "outputs": []
    },
    {
      "cell_type": "markdown",
      "source": [
        "# 6. Write a function to demonstrate the behavior of mutable and immutable arguments."
      ],
      "metadata": {
        "id": "8Q_N7pdH0-g3"
      }
    },
    {
      "cell_type": "code",
      "source": [
        "def modify_list(lst):\n",
        "    lst.append(4)  # Modifies the original list (mutable)\n",
        "    print(\"Inside function (mutable):\", lst)\n",
        "\n",
        "def modify_string(s):\n",
        "    s = s + \" World\"  # Creates a new string (immutable)\n",
        "    print(\"Inside function (immutable):\", s)\n",
        "\n",
        "# Mutable argument\n",
        "my_list = [1, 2, 3]\n",
        "modify_list(my_list)\n",
        "print(\"Outside function (mutable):\", my_list)\n",
        "\n",
        "# Immutable argument\n",
        "my_string = \"Hello\"\n",
        "modify_string(my_string)\n",
        "print(\"Outside function (immutable):\", my_string)"
      ],
      "metadata": {
        "colab": {
          "base_uri": "https://localhost:8080/"
        },
        "id": "BI9jsGSu1D4l",
        "outputId": "6b722066-c869-4a6b-94f0-ade7a2f35093"
      },
      "execution_count": 8,
      "outputs": [
        {
          "output_type": "stream",
          "name": "stdout",
          "text": [
            "Inside function (mutable): [1, 2, 3, 4]\n",
            "Outside function (mutable): [1, 2, 3, 4]\n",
            "Inside function (immutable): Hello World\n",
            "Outside function (immutable): Hello\n"
          ]
        }
      ]
    },
    {
      "cell_type": "code",
      "source": [],
      "metadata": {
        "id": "LcfiySKe2Bwf"
      },
      "execution_count": null,
      "outputs": []
    },
    {
      "cell_type": "markdown",
      "source": [
        "# 8. Write a program to demonstrate the use of logical operators."
      ],
      "metadata": {
        "id": "biWdGc0W2Gm1"
      }
    },
    {
      "cell_type": "code",
      "source": [
        "a = True\n",
        "b = False\n",
        "\n",
        "print(\"a and b:\",a and b)\n",
        "print(\"a or b:\", a or b)\n",
        "print(\"not a:\", not a)"
      ],
      "metadata": {
        "colab": {
          "base_uri": "https://localhost:8080/"
        },
        "id": "9taPJbRo2iC1",
        "outputId": "c13ef4c9-f388-42c3-8bd5-2dd002193305"
      },
      "execution_count": 9,
      "outputs": [
        {
          "output_type": "stream",
          "name": "stdout",
          "text": [
            "a and b: False\n",
            "a or b: True\n",
            "not a: False\n"
          ]
        }
      ]
    },
    {
      "cell_type": "code",
      "source": [],
      "metadata": {
        "id": "bderXE7J3NQZ"
      },
      "execution_count": null,
      "outputs": []
    },
    {
      "cell_type": "markdown",
      "source": [
        "# 9. Write a Python program to convert user input from string to integer, float, and boolean types."
      ],
      "metadata": {
        "id": "ovs6eR553849"
      }
    },
    {
      "cell_type": "code",
      "source": [
        "user_input = input(\"Enter a number: \")\n",
        "\n",
        "int_value = int(user_input)\n",
        "float_value = float(user_input)\n",
        "bool_value = bool(int(user_input))  # Non-zero numbers are True\n",
        "\n",
        "print(\"Integer:\", int_value)\n",
        "print(\"Float:\", float_value)\n",
        "print(\"Boolean:\", bool_value)"
      ],
      "metadata": {
        "colab": {
          "base_uri": "https://localhost:8080/"
        },
        "id": "f86J86Lp4bg9",
        "outputId": "cd2b13f8-91f1-4111-87f5-45dc7d496340"
      },
      "execution_count": 11,
      "outputs": [
        {
          "output_type": "stream",
          "name": "stdout",
          "text": [
            "Enter a number: 29\n",
            "Integer: 29\n",
            "Float: 29.0\n",
            "Boolean: True\n"
          ]
        }
      ]
    },
    {
      "cell_type": "code",
      "source": [],
      "metadata": {
        "id": "aXVbUTf_4kdE"
      },
      "execution_count": null,
      "outputs": []
    },
    {
      "cell_type": "markdown",
      "source": [
        "# 10. Write code to demonstrate type casting with list elements."
      ],
      "metadata": {
        "id": "szt-seBM40rd"
      }
    },
    {
      "cell_type": "code",
      "source": [
        "my_list = [\"10\", \"20\", \"30\"]\n",
        "\n",
        "int_list = [int(x) for x in my_list]  # Convert strings to integers\n",
        "print(\"Original List:\", my_list)\n",
        "print(\"Converted List:\", int_list)"
      ],
      "metadata": {
        "colab": {
          "base_uri": "https://localhost:8080/"
        },
        "id": "rEELvfHa456l",
        "outputId": "57ffbd0d-d386-455f-8236-81b794fbb794"
      },
      "execution_count": 12,
      "outputs": [
        {
          "output_type": "stream",
          "name": "stdout",
          "text": [
            "Original List: ['10', '20', '30']\n",
            "Converted List: [10, 20, 30]\n"
          ]
        }
      ]
    },
    {
      "cell_type": "code",
      "source": [],
      "metadata": {
        "id": "zX_wrBrY4-Vv"
      },
      "execution_count": null,
      "outputs": []
    },
    {
      "cell_type": "markdown",
      "source": [
        "# 11. Write a program that checks if a number is positive, negative, or zero."
      ],
      "metadata": {
        "id": "1bcDkiBj5DS-"
      }
    },
    {
      "cell_type": "code",
      "source": [
        "num = float(input(\"Enter a number: \"))\n",
        "\n",
        "if num > 0:\n",
        "    print(\"Positive number\")\n",
        "elif num < 0:\n",
        "    print(\"Negative number\")\n",
        "else:\n",
        "    print(\"Zero\")"
      ],
      "metadata": {
        "colab": {
          "base_uri": "https://localhost:8080/"
        },
        "id": "yRoIzx4m5I7e",
        "outputId": "8b93e931-7b7c-43a8-e70d-0a30cd31cf54"
      },
      "execution_count": 13,
      "outputs": [
        {
          "output_type": "stream",
          "name": "stdout",
          "text": [
            "Enter a number: 25\n",
            "Positive number\n"
          ]
        }
      ]
    },
    {
      "cell_type": "markdown",
      "source": [
        "# 11. Write a for loop to print numbers from 1 to 100."
      ],
      "metadata": {
        "id": "yylAvQuA5TQs"
      }
    },
    {
      "cell_type": "code",
      "source": [
        "for i in range(1, 101):\n",
        "    print(i, end=\" \")"
      ],
      "metadata": {
        "colab": {
          "base_uri": "https://localhost:8080/"
        },
        "id": "1CLj4Wq85MgV",
        "outputId": "e196595d-d2a7-4711-fe9f-48ca5ae8f79a"
      },
      "execution_count": 18,
      "outputs": [
        {
          "output_type": "stream",
          "name": "stdout",
          "text": [
            "1 2 3 4 5 6 7 8 9 10 11 12 13 14 15 16 17 18 19 20 21 22 23 24 25 26 27 28 29 30 31 32 33 34 35 36 37 38 39 40 41 42 43 44 45 46 47 48 49 50 51 52 53 54 55 56 57 58 59 60 61 62 63 64 65 66 67 68 69 70 71 72 73 74 75 76 77 78 79 80 81 82 83 84 85 86 87 88 89 90 91 92 93 94 95 96 97 98 99 100 "
          ]
        }
      ]
    },
    {
      "cell_type": "code",
      "source": [],
      "metadata": {
        "id": "s1S0SK2d5lrS"
      },
      "execution_count": null,
      "outputs": []
    },
    {
      "cell_type": "markdown",
      "source": [
        "# 12. Write a Python program to find the sum of all even numbers between 1 and 50."
      ],
      "metadata": {
        "id": "_g5eLp5d6RUK"
      }
    },
    {
      "cell_type": "code",
      "source": [
        "sum_even = sum(range(2, 51,2))\n",
        "print(\"Sum of even numbers between 1 and 50:\", sum_even)"
      ],
      "metadata": {
        "colab": {
          "base_uri": "https://localhost:8080/"
        },
        "id": "iEg2jElE6ndr",
        "outputId": "1a5ed6ba-925b-4499-8542-da0491ffdd27"
      },
      "execution_count": 22,
      "outputs": [
        {
          "output_type": "stream",
          "name": "stdout",
          "text": [
            "Sum of even numbers between 1 and 50: 650\n"
          ]
        }
      ]
    },
    {
      "cell_type": "code",
      "source": [],
      "metadata": {
        "id": "aFqpd9ZG62yY"
      },
      "execution_count": null,
      "outputs": []
    },
    {
      "cell_type": "markdown",
      "source": [
        "# 13. Write a program to reverse a string using a while loop."
      ],
      "metadata": {
        "id": "pdU8K1Wg7vhK"
      }
    },
    {
      "cell_type": "code",
      "source": [
        "s = input(\"Enter a string: \")\n",
        "reversed_s = \"\"\n",
        "i = len(s) - 1\n",
        "\n",
        "while i >= 0:\n",
        "    reversed_s += s[i]\n",
        "    i -= 1\n",
        "\n",
        "print(\"Reversed String:\", reversed_s)"
      ],
      "metadata": {
        "colab": {
          "base_uri": "https://localhost:8080/"
        },
        "id": "dEUdV4We7304",
        "outputId": "2b9b4376-cd5a-4a17-d8ed-9db89eaa4cc3"
      },
      "execution_count": 23,
      "outputs": [
        {
          "output_type": "stream",
          "name": "stdout",
          "text": [
            "Enter a string: welome\n",
            "Reversed String: emolew\n"
          ]
        }
      ]
    },
    {
      "cell_type": "code",
      "source": [],
      "metadata": {
        "id": "zce8Oj5m8mcU"
      },
      "execution_count": null,
      "outputs": []
    },
    {
      "cell_type": "markdown",
      "source": [
        "# 14. Write a Python program to calculate the factorial of a number provided by the user using a while loop."
      ],
      "metadata": {
        "id": "52essRxp8sL8"
      }
    },
    {
      "cell_type": "code",
      "source": [
        "num = int(input(\"Enter a number: \"))\n",
        "factorial = 1\n",
        "i = num\n",
        "\n",
        "while i > 0:\n",
        "    factorial *= i\n",
        "    i -= 1\n",
        "\n",
        "print(f\"Factorial of {num} is {factorial}\")"
      ],
      "metadata": {
        "colab": {
          "base_uri": "https://localhost:8080/"
        },
        "id": "Ib_QxkL08xoi",
        "outputId": "8e6c2f1f-1706-4bb2-d285-9797e05de611"
      },
      "execution_count": 28,
      "outputs": [
        {
          "output_type": "stream",
          "name": "stdout",
          "text": [
            "Enter a number: 4\n",
            "Factorial of 4 is 24\n"
          ]
        }
      ]
    },
    {
      "cell_type": "code",
      "source": [],
      "metadata": {
        "id": "__W8leML83md"
      },
      "execution_count": null,
      "outputs": []
    }
  ]
}